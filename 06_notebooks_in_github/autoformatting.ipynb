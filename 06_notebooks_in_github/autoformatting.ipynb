{
 "cells": [
  {
   "cell_type": "code",
   "execution_count": 1,
   "id": "35a46592-58e9-4497-957c-b2fe4cc285ba",
   "metadata": {},
   "outputs": [],
   "source": [
    "from dataclasses import    dataclass"
   ]
  },
  {
   "cell_type": "code",
   "execution_count": null,
   "id": "999e062c-836c-4b0d-a21d-939c3aeb474c",
   "metadata": {},
   "outputs": [],
   "source": [
    "a = 2 +    5"
   ]
  }
 ],
 "metadata": {
  "kernelspec": {
   "display_name": "Python 3 (ipykernel)",
   "language": "python",
   "name": "python3"
  },
  "language_info": {
   "codemirror_mode": {
    "name": "ipython",
    "version": 3
   },
   "file_extension": ".py",
   "mimetype": "text/x-python",
   "name": "python",
   "nbconvert_exporter": "python",
   "pygments_lexer": "ipython3",
   "version": "3.8.8"
  }
 },
 "nbformat": 4,
 "nbformat_minor": 5
}
